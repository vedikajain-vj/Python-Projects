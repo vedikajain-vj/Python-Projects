{
 "cells": [
  {
   "cell_type": "code",
   "execution_count": 1,
   "id": "03834238-6d70-4971-84a1-5b783396df6b",
   "metadata": {},
   "outputs": [],
   "source": [
    "import pandas as pd\n",
    "import numpy as np"
   ]
  },
  {
   "cell_type": "code",
   "execution_count": 2,
   "id": "784a8096-9fd2-44c8-bc58-a0294742d781",
   "metadata": {},
   "outputs": [],
   "source": [
    "from datetime import datetime"
   ]
  },
  {
   "cell_type": "code",
   "execution_count": 3,
   "id": "0a870751-4780-4004-a221-5152bed690ae",
   "metadata": {},
   "outputs": [
    {
     "data": {
      "text/html": [
       "<div>\n",
       "<style scoped>\n",
       "    .dataframe tbody tr th:only-of-type {\n",
       "        vertical-align: middle;\n",
       "    }\n",
       "\n",
       "    .dataframe tbody tr th {\n",
       "        vertical-align: top;\n",
       "    }\n",
       "\n",
       "    .dataframe thead th {\n",
       "        text-align: right;\n",
       "    }\n",
       "</style>\n",
       "<table border=\"1\" class=\"dataframe\">\n",
       "  <thead>\n",
       "    <tr style=\"text-align: right;\">\n",
       "      <th></th>\n",
       "      <th>userid</th>\n",
       "      <th>name</th>\n",
       "      <th>1st dose status</th>\n",
       "      <th>date of 1st dose</th>\n",
       "      <th>2nd dose status</th>\n",
       "      <th>date of 2nd dose</th>\n",
       "    </tr>\n",
       "  </thead>\n",
       "  <tbody>\n",
       "    <tr>\n",
       "      <th>0</th>\n",
       "      <td>p001</td>\n",
       "      <td>Chandler</td>\n",
       "      <td>yes</td>\n",
       "      <td>2021-12-30</td>\n",
       "      <td>yes</td>\n",
       "      <td>2022-03-30</td>\n",
       "    </tr>\n",
       "    <tr>\n",
       "      <th>1</th>\n",
       "      <td>p002</td>\n",
       "      <td>Joey</td>\n",
       "      <td>yes</td>\n",
       "      <td>2023-01-12</td>\n",
       "      <td>no</td>\n",
       "      <td>NaT</td>\n",
       "    </tr>\n",
       "    <tr>\n",
       "      <th>2</th>\n",
       "      <td>p003</td>\n",
       "      <td>Monica</td>\n",
       "      <td>yes</td>\n",
       "      <td>2022-03-15</td>\n",
       "      <td>yes</td>\n",
       "      <td>2022-06-23</td>\n",
       "    </tr>\n",
       "    <tr>\n",
       "      <th>3</th>\n",
       "      <td>p004</td>\n",
       "      <td>Rachel</td>\n",
       "      <td>yes</td>\n",
       "      <td>2022-02-17</td>\n",
       "      <td>no</td>\n",
       "      <td>NaT</td>\n",
       "    </tr>\n",
       "    <tr>\n",
       "      <th>4</th>\n",
       "      <td>p005</td>\n",
       "      <td>Pheobe</td>\n",
       "      <td>yes</td>\n",
       "      <td>2022-01-18</td>\n",
       "      <td>yes</td>\n",
       "      <td>2022-05-08</td>\n",
       "    </tr>\n",
       "  </tbody>\n",
       "</table>\n",
       "</div>"
      ],
      "text/plain": [
       "  userid      name 1st dose status date of 1st dose 2nd dose status  \\\n",
       "0   p001  Chandler             yes       2021-12-30             yes   \n",
       "1   p002      Joey             yes       2023-01-12              no   \n",
       "2   p003    Monica             yes       2022-03-15             yes   \n",
       "3   p004    Rachel             yes       2022-02-17              no   \n",
       "4   p005    Pheobe             yes       2022-01-18             yes   \n",
       "\n",
       "  date of 2nd dose  \n",
       "0       2022-03-30  \n",
       "1              NaT  \n",
       "2       2022-06-23  \n",
       "3              NaT  \n",
       "4       2022-05-08  "
      ]
     },
     "execution_count": 3,
     "metadata": {},
     "output_type": "execute_result"
    }
   ],
   "source": [
    "vaccine_data = pd.read_excel(\"C:\\\\Users\\\\Lenovo\\\\Desktop\\\\IOTA - Python\\\\PDFs\\\\Project_2_Vaccination_Portal_Question\\\\vaccination_portal_question\\\\vaccine_data.xlsx\")\n",
    "vaccine_data.head()"
   ]
  },
  {
   "cell_type": "code",
   "execution_count": 4,
   "id": "7dfc300e-a9e3-4d06-a5bc-5d5374217183",
   "metadata": {},
   "outputs": [
    {
     "name": "stdout",
     "output_type": "stream",
     "text": [
      "<class 'pandas.core.frame.DataFrame'>\n",
      "RangeIndex: 20 entries, 0 to 19\n",
      "Data columns (total 6 columns):\n",
      " #   Column            Non-Null Count  Dtype         \n",
      "---  ------            --------------  -----         \n",
      " 0   userid            20 non-null     object        \n",
      " 1   name              20 non-null     object        \n",
      " 2   1st dose status   20 non-null     object        \n",
      " 3   date of 1st dose  14 non-null     datetime64[ns]\n",
      " 4   2nd dose status   20 non-null     object        \n",
      " 5   date of 2nd dose  9 non-null      datetime64[ns]\n",
      "dtypes: datetime64[ns](2), object(4)\n",
      "memory usage: 1.1+ KB\n"
     ]
    }
   ],
   "source": [
    "vaccine_data.info()"
   ]
  },
  {
   "cell_type": "code",
   "execution_count": 8,
   "id": "d561ab18-11d3-4397-8263-e9fa7855c908",
   "metadata": {},
   "outputs": [
    {
     "name": "stdin",
     "output_type": "stream",
     "text": [
      "Enter user Id:  p007\n"
     ]
    },
    {
     "name": "stdout",
     "output_type": "stream",
     "text": [
      "Hi Mike, You have taken your first dose on 17/03/2022, please take your second dose at the earliest.\n"
     ]
    }
   ],
   "source": [
    "def vaccination_status(user_id):\n",
    "    user_record = vaccine_data[vaccine_data['userid'] == user_id]\n",
    "\n",
    "    if user_record.empty:\n",
    "        print(\"User record not found. Please check and try again.\")\n",
    "        return\n",
    "\n",
    "    name = user_record['name'].values[0]\n",
    "    firstdose_status = user_record['1st dose status'].values[0]\n",
    "    firstdose_date_value = user_record['date of 1st dose'].values[0]\n",
    "    seconddose_status = user_record['2nd dose status'].values[0]\n",
    "\n",
    "\n",
    "    if pd.notna(firstdose_date_value):\n",
    "        firstdose_date_value = pd.to_datetime(firstdose_date_value)  # Convert to datetime object\n",
    "        firstdose_date_str = firstdose_date_value.strftime('%d/%m/%Y')\n",
    "    else:\n",
    "        firstdose_date_str = None\n",
    "        \n",
    "    today = datetime.now()\n",
    "\n",
    "    \n",
    "    if firstdose_status.lower() =='yes' and seconddose_status.lower() =='yes':\n",
    "        print(f\"Hi {name}, Congratulations! You are fully vaccinated.\")\n",
    "    \n",
    "    elif firstdose_status.lower() =='no' and seconddose_status.lower() =='no':\n",
    "        print(f\"Hi {name}, Please take your first dose at the earliest.\")\n",
    "    \n",
    "    elif firstdose_status.lower() == 'yes' and seconddose_status.lower() =='no':\n",
    "        if firstdose_date_str is not None:\n",
    "            days_difference = (today - firstdose_date_value).days\n",
    "            \n",
    "            if days_difference > 90:\n",
    "                print(f\"Hi {name}, You have taken your first dose on {firstdose_date_str}, please take your second dose at the earliest.\")\n",
    "            else:\n",
    "                nextdose_date = firstdose_date_value + pd.Timedelta(days=90)\n",
    "                nextdose_date_str = nextdose_date.strftime('%d%m%y')\n",
    "                print(f\"Hi {name}, You have taken your first dose on {firstdose_date_str}, please take your second dose on or after {nextdose_date_str}.\")\n",
    "\n",
    "    else:\n",
    "        print(\"Invalid data for vaccination status. Please contact support.\")\n",
    "\n",
    "\n",
    "user_id = input(\"Enter user Id: \")\n",
    "vaccination_status(user_id)"
   ]
  },
  {
   "cell_type": "code",
   "execution_count": null,
   "id": "47895fe5-d240-4a54-a385-b6c8e19a8bc3",
   "metadata": {},
   "outputs": [],
   "source": []
  }
 ],
 "metadata": {
  "kernelspec": {
   "display_name": "Python 3 (ipykernel)",
   "language": "python",
   "name": "python3"
  },
  "language_info": {
   "codemirror_mode": {
    "name": "ipython",
    "version": 3
   },
   "file_extension": ".py",
   "mimetype": "text/x-python",
   "name": "python",
   "nbconvert_exporter": "python",
   "pygments_lexer": "ipython3",
   "version": "3.11.5"
  }
 },
 "nbformat": 4,
 "nbformat_minor": 5
}
