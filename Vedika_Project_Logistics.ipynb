{
 "cells": [
  {
   "cell_type": "code",
   "execution_count": 1,
   "id": "ef613129-9002-48b7-96c4-aa328ff22e20",
   "metadata": {},
   "outputs": [],
   "source": [
    "import numpy as np\n",
    "import pandas as pd"
   ]
  },
  {
   "cell_type": "code",
   "execution_count": 2,
   "id": "3512de06-f788-4a2b-b198-534daf0b6fb1",
   "metadata": {},
   "outputs": [],
   "source": [
    "# ShopX Data\n",
    "\n",
    "order_data = pd.read_excel(\"Company ShopX - Order Report.xlsx\")\n",
    "product_weight = pd.read_excel(\"Company ShopX - Product Weight.xlsx\")\n",
    "pincode_zone = pd.read_excel(\"Company ShopX - Warehouse&Customer Pin Code and Zone details.xlsx\")\n",
    "\n",
    "#Courier Data\n",
    "courier_invoice = pd.read_excel(\"Courier Company - Invoice.xlsx\")\n",
    "courier_rates = pd.read_excel(\"Courier Company - Rates.xlsx\")"
   ]
  },
  {
   "cell_type": "code",
   "execution_count": 3,
   "id": "ae043343-adcf-4599-85ac-0847c016f530",
   "metadata": {},
   "outputs": [],
   "source": [
    "# Removing Duplicates\n",
    "\n",
    "order_data = order_data.drop_duplicates()\n",
    "product_weight = product_weight.drop_duplicates()\n",
    "pincode_zone = pincode_zone.drop_duplicates()"
   ]
  },
  {
   "cell_type": "code",
   "execution_count": 4,
   "id": "d9d9c820-d7f1-40a8-ba17-6a8fe8b89a46",
   "metadata": {},
   "outputs": [],
   "source": [
    "# Merging order_report with product_weight\n",
    "order_data = order_data.merge(product_weight, on='Product Code', how = 'left')"
   ]
  },
  {
   "cell_type": "code",
   "execution_count": 5,
   "id": "28f18cd1-0a3a-46b1-afcb-c1dd04c3de87",
   "metadata": {},
   "outputs": [
    {
     "name": "stdout",
     "output_type": "stream",
     "text": [
      "     Order ID   Product Code  Units Ordered  Product Weight (g)\n",
      "0  2001827036  8904223818706            1.0                 127\n",
      "1  2001827036  8904223819093            1.0                 150\n",
      "2  2001827036  8904223819109            1.0                 100\n",
      "3  2001827036  8904223818430            1.0                 165\n",
      "4  2001827036  8904223819277            1.0                 350\n"
     ]
    }
   ],
   "source": [
    "print(order_data.head())"
   ]
  },
  {
   "cell_type": "code",
   "execution_count": 6,
   "id": "aa2d60b8-297b-4b99-be50-3366d0aa395f",
   "metadata": {},
   "outputs": [],
   "source": [
    "# Calculating Total_Weight\n",
    "order_data['Total Weight(g) (ShopX)'] = order_data['Units Ordered'] * order_data['Product Weight (g)']"
   ]
  },
  {
   "cell_type": "code",
   "execution_count": 7,
   "id": "05f08b21-d557-4301-8e09-040da1e6f8ac",
   "metadata": {},
   "outputs": [],
   "source": [
    "order_data = order_data.groupby('Order ID')['Total Weight(g) (ShopX)'].sum().reset_index()"
   ]
  },
  {
   "cell_type": "code",
   "execution_count": 8,
   "id": "a8a32834-5859-40fd-943a-e13168a25a8a",
   "metadata": {},
   "outputs": [],
   "source": [
    "order_data['Total Weight(KG) (ShopX)'] = order_data['Total Weight(g) (ShopX)'] / 1000"
   ]
  },
  {
   "cell_type": "code",
   "execution_count": 9,
   "id": "3bcab1b4-797f-49b6-ae57-f49774f406f5",
   "metadata": {},
   "outputs": [],
   "source": [
    "order_data['Weight Slab(KG) (ShopX)'] = np.ceil(order_data['Total Weight(KG) (ShopX)'] * 2 ) / 2"
   ]
  },
  {
   "cell_type": "code",
   "execution_count": 10,
   "id": "f85ff61c-c4f3-489d-971c-8d270aa47292",
   "metadata": {},
   "outputs": [
    {
     "name": "stdout",
     "output_type": "stream",
     "text": [
      "     Order ID  Total Weight(g) (ShopX)  Total Weight(KG) (ShopX)  \\\n",
      "0  2001806210                    220.0                     0.220   \n",
      "1  2001806226                    480.0                     0.480   \n",
      "2  2001806229                    500.0                     0.500   \n",
      "3  2001806232                   1302.0                     1.302   \n",
      "4  2001806233                    245.0                     0.245   \n",
      "\n",
      "   Weight Slab(KG) (ShopX)  \n",
      "0                      0.5  \n",
      "1                      0.5  \n",
      "2                      0.5  \n",
      "3                      1.5  \n",
      "4                      0.5  \n"
     ]
    }
   ],
   "source": [
    "print(order_data.head())"
   ]
  },
  {
   "cell_type": "code",
   "execution_count": 11,
   "id": "97a9f488-64d8-4576-955e-452b699ecf4d",
   "metadata": {},
   "outputs": [],
   "source": [
    "# Merging\n",
    "\n",
    "merged_data = pd.merge(order_data,courier_invoice, on='Order ID', how='left')"
   ]
  },
  {
   "cell_type": "code",
   "execution_count": 12,
   "id": "947bdccd-f22a-4590-a86a-dda3420d4c07",
   "metadata": {},
   "outputs": [
    {
     "name": "stdout",
     "output_type": "stream",
     "text": [
      "     Order ID  Total Weight(g) (ShopX)  Total Weight(KG) (ShopX)  \\\n",
      "0  2001806210                    220.0                     0.220   \n",
      "1  2001806226                    480.0                     0.480   \n",
      "2  2001806229                    500.0                     0.500   \n",
      "3  2001806232                   1302.0                     1.302   \n",
      "4  2001806233                    245.0                     0.245   \n",
      "\n",
      "   Weight Slab(KG) (ShopX)  AWB Code (Airway Bill Number)   Chargeable Weight  \\\n",
      "0                      0.5                   1091117221940               2.92   \n",
      "1                      0.5                   1091117222065               0.68   \n",
      "2                      0.5                   1091117222080               0.71   \n",
      "3                      1.5                   1091117222124               1.30   \n",
      "4                      0.5                   1091117222135               0.78   \n",
      "\n",
      "   Store House Pincode  Customer Area Code Delivery Zone     Freight Type  \\\n",
      "0               121003              140604             b  Forward charges   \n",
      "1               121003              723146             d  Forward charges   \n",
      "2               121003              421204             d  Forward charges   \n",
      "3               121003              507101             d  Forward charges   \n",
      "4               121003              263139             b  Forward charges   \n",
      "\n",
      "   Total Amount (Rs.)  \n",
      "0               174.5  \n",
      "1                90.2  \n",
      "2                90.2  \n",
      "3               135.0  \n",
      "4                61.3  \n"
     ]
    }
   ],
   "source": [
    "print(merged_data.head())"
   ]
  },
  {
   "cell_type": "code",
   "execution_count": 13,
   "id": "af9f5cfe-8d14-47ab-93ae-148b6c44c4c1",
   "metadata": {},
   "outputs": [],
   "source": [
    "final_data = pd.merge(merged_data, pincode_zone, on=['Store House Pincode','Customer Area Code'],how='left', suffixes=('', '_ShopX'))"
   ]
  },
  {
   "cell_type": "code",
   "execution_count": 14,
   "id": "21eadfc8-2efb-4b40-bc86-6e8a4f993f46",
   "metadata": {},
   "outputs": [
    {
     "name": "stdout",
     "output_type": "stream",
     "text": [
      "     Order ID  Total Weight(g) (ShopX)  Total Weight(KG) (ShopX)  \\\n",
      "0  2001806210                    220.0                     0.220   \n",
      "1  2001806226                    480.0                     0.480   \n",
      "2  2001806229                    500.0                     0.500   \n",
      "3  2001806232                   1302.0                     1.302   \n",
      "4  2001806233                    245.0                     0.245   \n",
      "\n",
      "   Weight Slab(KG) (ShopX)  AWB Code (Airway Bill Number)   Chargeable Weight  \\\n",
      "0                      0.5                   1091117221940               2.92   \n",
      "1                      0.5                   1091117222065               0.68   \n",
      "2                      0.5                   1091117222080               0.71   \n",
      "3                      1.5                   1091117222124               1.30   \n",
      "4                      0.5                   1091117222135               0.78   \n",
      "\n",
      "   Store House Pincode  Customer Area Code Delivery Zone     Freight Type  \\\n",
      "0               121003              140604             b  Forward charges   \n",
      "1               121003              723146             d  Forward charges   \n",
      "2               121003              421204             d  Forward charges   \n",
      "3               121003              507101             d  Forward charges   \n",
      "4               121003              263139             b  Forward charges   \n",
      "\n",
      "   Total Amount (Rs.) Delivery Zone_ShopX  \n",
      "0               174.5                   b  \n",
      "1                90.2                   d  \n",
      "2                90.2                   d  \n",
      "3               135.0                   d  \n",
      "4                61.3                   b  \n"
     ]
    }
   ],
   "source": [
    "print(final_data.head())"
   ]
  },
  {
   "cell_type": "code",
   "execution_count": 15,
   "id": "7b01cd9d-3ce3-4f3c-bab2-28849f4987ad",
   "metadata": {},
   "outputs": [],
   "source": [
    "def calculated_expected_charges(row):\n",
    "    # zone_prefix = [a,b,c,d,e]\n",
    "    zone_prefix = row['Delivery Zone_ShopX'].lower()\n",
    "\n",
    "    # taking fixed & additional column charges directly\n",
    "    fwd_fixed_col = f'fwd_{zone_prefix}_fixed'\n",
    "    fwd_additional_col = f'fwd_{zone_prefix}_additional'\n",
    "    rto_fixed_col = f'rto_{zone_prefix}_fixed'\n",
    "    rto_additional_col = f'rto_{zone_prefix}_additional'\n",
    "\n",
    "    # Ensure that the rquired column exist in courier_rates data\n",
    "    if all(col in courier_rates.columns for col in [fwd_fixed_col, fwd_additional_col, rto_fixed_col, rto_additional_col]):\n",
    "\n",
    "        if row['Freight Type'] == 'Forward charges':\n",
    "            fixed_charges = courier_rates[fwd_fixed_col].values[0]\n",
    "            additional_charges = courier_rates[fwd_additional_col].values[0] * (row['Weight Slab(KG) (ShopX)'] - 0.5) / 0.5\n",
    "            return fixed_charges + additional_charges\n",
    "\n",
    "        elif row['Freight Type'] == 'Forward and RTO charges':\n",
    "            fwd_fixed_charges = courier_rates[fwd_fixed_col].values[0]\n",
    "            rto_fixed_charges = courier_rates[rto_fixed_col].values[0]\n",
    "            fwd_additional_charges = courier_rates[fwd_additional_col].values[0] * (row['Weight Slab(KG) (ShopX)'] - 0.5) / 0.5\n",
    "            rto_additional_charges = courier_rates[rto_additional_col].values[0] * (row['Weight Slab(KG) (ShopX)'] - 0.5)  / 0.5\n",
    "            return fwd_fixed_charges + rto_fixed_charges + fwd_additional_charges + rto_additional_charges\n",
    "\n",
    "    else:\n",
    "    # If no matching rate is found, return NaN or 0\n",
    "        return np.nan"
   ]
  },
  {
   "cell_type": "code",
   "execution_count": 16,
   "id": "d54a3160-ddfc-4428-83b9-d994799f7cb7",
   "metadata": {},
   "outputs": [],
   "source": [
    "final_data['Expected Charges (ShopX)'] = final_data.apply(lambda row: calculated_expected_charges(row), axis=1)"
   ]
  },
  {
   "cell_type": "code",
   "execution_count": 17,
   "id": "37e464f4-c05e-4d2c-9f52-1b2c23f41d20",
   "metadata": {},
   "outputs": [],
   "source": [
    "final_data['Difference in Charges (Rs.)'] = final_data['Expected Charges (ShopX)'] - final_data['Total Amount (Rs.)']"
   ]
  },
  {
   "cell_type": "code",
   "execution_count": 18,
   "id": "74bcf252-66ba-4512-ad6a-0abf182db6ee",
   "metadata": {},
   "outputs": [
    {
     "name": "stdout",
     "output_type": "stream",
     "text": [
      "     Order ID  Total Weight(g) (ShopX)  Total Weight(KG) (ShopX)  \\\n",
      "0  2001806210                    220.0                     0.220   \n",
      "1  2001806226                    480.0                     0.480   \n",
      "2  2001806229                    500.0                     0.500   \n",
      "3  2001806232                   1302.0                     1.302   \n",
      "4  2001806233                    245.0                     0.245   \n",
      "\n",
      "   Weight Slab(KG) (ShopX)  AWB Code (Airway Bill Number)   Chargeable Weight  \\\n",
      "0                      0.5                   1091117221940               2.92   \n",
      "1                      0.5                   1091117222065               0.68   \n",
      "2                      0.5                   1091117222080               0.71   \n",
      "3                      1.5                   1091117222124               1.30   \n",
      "4                      0.5                   1091117222135               0.78   \n",
      "\n",
      "   Store House Pincode  Customer Area Code Delivery Zone     Freight Type  \\\n",
      "0               121003              140604             b  Forward charges   \n",
      "1               121003              723146             d  Forward charges   \n",
      "2               121003              421204             d  Forward charges   \n",
      "3               121003              507101             d  Forward charges   \n",
      "4               121003              263139             b  Forward charges   \n",
      "\n",
      "   Total Amount (Rs.) Delivery Zone_ShopX  Expected Charges (ShopX)  \\\n",
      "0               174.5                   b                      33.0   \n",
      "1                90.2                   d                      45.4   \n",
      "2                90.2                   d                      45.4   \n",
      "3               135.0                   d                     135.0   \n",
      "4                61.3                   b                      33.0   \n",
      "\n",
      "   Difference in Charges (Rs.)  \n",
      "0                       -141.5  \n",
      "1                        -44.8  \n",
      "2                        -44.8  \n",
      "3                          0.0  \n",
      "4                        -28.3  \n"
     ]
    }
   ],
   "source": [
    "print(final_data.head())"
   ]
  },
  {
   "cell_type": "markdown",
   "id": "3739dc86-a398-436a-89ff-214c25ac7211",
   "metadata": {},
   "source": [
    "OUTPUT DATA 1"
   ]
  },
  {
   "cell_type": "code",
   "execution_count": 19,
   "id": "e1659109-c67e-4795-8b25-0587d125ebb8",
   "metadata": {},
   "outputs": [
    {
     "data": {
      "text/plain": [
       "Index(['Order ID', 'Total Weight(g) (ShopX)', 'Total Weight(KG) (ShopX)',\n",
       "       'Weight Slab(KG) (ShopX)', 'AWB Code (Airway Bill Number) ',\n",
       "       'Chargeable Weight', 'Store House Pincode', 'Customer Area Code',\n",
       "       'Delivery Zone', 'Freight Type', 'Total Amount (Rs.)',\n",
       "       'Delivery Zone_ShopX', 'Expected Charges (ShopX)',\n",
       "       'Difference in Charges (Rs.)'],\n",
       "      dtype='object')"
      ]
     },
     "execution_count": 19,
     "metadata": {},
     "output_type": "execute_result"
    }
   ],
   "source": [
    "final_data.columns"
   ]
  },
  {
   "cell_type": "code",
   "execution_count": 20,
   "id": "c2ea8ff0-b5ed-4e97-8ba0-9d206db1584e",
   "metadata": {},
   "outputs": [],
   "source": [
    "output_data_1 = final_data[['Order ID','AWB Code (Airway Bill Number) ','Total Weight(g) (ShopX)', 'Total Weight(KG) (ShopX)',\n",
    "       'Weight Slab(KG) (ShopX)','Chargeable Weight','Delivery Zone_ShopX','Delivery Zone','Expected Charges (ShopX)','Total Amount (Rs.)','Difference in Charges (Rs.)']]"
   ]
  },
  {
   "cell_type": "code",
   "execution_count": 21,
   "id": "acbeb255-0176-46bd-a908-991967060d8e",
   "metadata": {},
   "outputs": [
    {
     "name": "stdout",
     "output_type": "stream",
     "text": [
      "     Order ID  AWB Code (Airway Bill Number)   Total Weight(g) (ShopX)  \\\n",
      "0  2001806210                   1091117221940                    220.0   \n",
      "1  2001806226                   1091117222065                    480.0   \n",
      "2  2001806229                   1091117222080                    500.0   \n",
      "3  2001806232                   1091117222124                   1302.0   \n",
      "4  2001806233                   1091117222135                    245.0   \n",
      "\n",
      "   Total Weight(KG) (ShopX)  Weight Slab(KG) (ShopX)  Chargeable Weight  \\\n",
      "0                     0.220                      0.5               2.92   \n",
      "1                     0.480                      0.5               0.68   \n",
      "2                     0.500                      0.5               0.71   \n",
      "3                     1.302                      1.5               1.30   \n",
      "4                     0.245                      0.5               0.78   \n",
      "\n",
      "  Delivery Zone_ShopX Delivery Zone  Expected Charges (ShopX)  \\\n",
      "0                   b             b                      33.0   \n",
      "1                   d             d                      45.4   \n",
      "2                   d             d                      45.4   \n",
      "3                   d             d                     135.0   \n",
      "4                   b             b                      33.0   \n",
      "\n",
      "   Total Amount (Rs.)  Difference in Charges (Rs.)  \n",
      "0               174.5                       -141.5  \n",
      "1                90.2                        -44.8  \n",
      "2                90.2                        -44.8  \n",
      "3               135.0                          0.0  \n",
      "4                61.3                        -28.3  \n"
     ]
    }
   ],
   "source": [
    "print(output_data_1.head())"
   ]
  },
  {
   "cell_type": "markdown",
   "id": "8b80703b-b938-494c-a527-08653b76b439",
   "metadata": {},
   "source": [
    "OUTPUT 2"
   ]
  },
  {
   "cell_type": "code",
   "execution_count": 22,
   "id": "3912c774-751b-40fd-b321-db1f6b86ba56",
   "metadata": {},
   "outputs": [],
   "source": [
    "correctly_charged_orders = final_data[final_data['Difference in Charges (Rs.)'] == 0]"
   ]
  },
  {
   "cell_type": "code",
   "execution_count": 23,
   "id": "4869db43-78e9-4c36-915f-9302e4c76bb2",
   "metadata": {},
   "outputs": [],
   "source": [
    "overcharged_orders = final_data[final_data['Difference in Charges (Rs.)'] < 0]"
   ]
  },
  {
   "cell_type": "code",
   "execution_count": 24,
   "id": "bd4ac133-5c5d-40fb-b315-dba4dd0f31b2",
   "metadata": {},
   "outputs": [],
   "source": [
    "undercharged_orders = final_data[final_data['Difference in Charges (Rs.)'] > 0]"
   ]
  },
  {
   "cell_type": "code",
   "execution_count": 25,
   "id": "71526926-6bc2-422e-9714-e3a7fa2e4606",
   "metadata": {},
   "outputs": [],
   "source": [
    "correctly_charged_count = correctly_charged_orders.shape[0]\n",
    "correctly_charged_total_invoice = correctly_charged_orders['Total Amount (Rs.)'].sum()"
   ]
  },
  {
   "cell_type": "code",
   "execution_count": 26,
   "id": "85dc1ee1-f4db-4f44-945f-643ee2c7600f",
   "metadata": {},
   "outputs": [],
   "source": [
    "overcharged_count = overcharged_orders.shape[0]\n",
    "overcharged_total_invoice = overcharged_orders['Total Amount (Rs.)'].sum()"
   ]
  },
  {
   "cell_type": "code",
   "execution_count": 27,
   "id": "dd80378f-f194-4660-8f6f-12d90f3f3bf3",
   "metadata": {},
   "outputs": [],
   "source": [
    "undercharged_count = undercharged_orders.shape[0]\n",
    "undercharged_total_invoice = undercharged_orders['Total Amount (Rs.)'].sum()"
   ]
  },
  {
   "cell_type": "code",
   "execution_count": 28,
   "id": "4c375f5f-74f3-40da-be75-ffde7db285ee",
   "metadata": {},
   "outputs": [],
   "source": [
    "output_data_2 = {\n",
    "    'Charge Type': ['Correctly Charged Orders', 'Overcharged Orders', 'Undercharged Orders'],\n",
    "    'Order Count': [correctly_charged_count, overcharged_count, undercharged_count],\n",
    "    'Total Invoice Amount (Rs.)': [correctly_charged_total_invoice, overcharged_total_invoice, undercharged_total_invoice]\n",
    "}"
   ]
  },
  {
   "cell_type": "code",
   "execution_count": 29,
   "id": "69d4ac06-6f60-4f47-8f3d-3f5f3ce3a9d2",
   "metadata": {},
   "outputs": [],
   "source": [
    "output_data_2_df = pd.DataFrame(output_data_2)"
   ]
  },
  {
   "cell_type": "code",
   "execution_count": 30,
   "id": "f3328b4b-023d-44e3-b05a-16b752ab2434",
   "metadata": {},
   "outputs": [
    {
     "name": "stdout",
     "output_type": "stream",
     "text": [
      "                Charge Type  Order Count  Total Invoice Amount (Rs.)\n",
      "0  Correctly Charged Orders           15                      1207.3\n",
      "1        Overcharged Orders           85                      8982.1\n",
      "2       Undercharged Orders           24                      3458.8\n"
     ]
    }
   ],
   "source": [
    "print(output_data_2_df)"
   ]
  },
  {
   "cell_type": "markdown",
   "id": "8bac5d5a-3e40-48dc-9087-35509a3d9e7c",
   "metadata": {},
   "source": [
    "Extracting Output into Excel"
   ]
  },
  {
   "cell_type": "code",
   "execution_count": 31,
   "id": "ff556acd-0da9-444b-b880-e6c45e4d251a",
   "metadata": {},
   "outputs": [],
   "source": [
    "with pd.ExcelWriter(\"Project_Logistics.xlsx\") as writer:\n",
    "    output_data_1.to_excel(writer, sheet_name=\"Output 1\",index=False)\n",
    "    output_data_2_df.to_excel(writer, sheet_name=\"Output 2\", index=False)"
   ]
  },
  {
   "cell_type": "code",
   "execution_count": null,
   "id": "6c82d169-e7b7-4f81-9e2e-c5df4ee23a5b",
   "metadata": {},
   "outputs": [],
   "source": []
  }
 ],
 "metadata": {
  "kernelspec": {
   "display_name": "Python 3 (ipykernel)",
   "language": "python",
   "name": "python3"
  },
  "language_info": {
   "codemirror_mode": {
    "name": "ipython",
    "version": 3
   },
   "file_extension": ".py",
   "mimetype": "text/x-python",
   "name": "python",
   "nbconvert_exporter": "python",
   "pygments_lexer": "ipython3",
   "version": "3.11.5"
  }
 },
 "nbformat": 4,
 "nbformat_minor": 5
}
